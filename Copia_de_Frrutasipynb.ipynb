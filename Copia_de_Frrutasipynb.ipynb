{
  "cells": [
    {
      "cell_type": "markdown",
      "metadata": {},
      "source": [
        "Importaciones necesarias para el modelo  y carga del dataset"
      ]
    },
    {
      "cell_type": "code",
      "execution_count": null,
      "metadata": {
        "colab": {
          "base_uri": "https://localhost:8080/"
        },
        "id": "5HwkLLVq4MF8",
        "outputId": "8a46cc0f-c0e6-4a6d-8d37-1ba6719fbc29"
      },
      "outputs": [
        {
          "name": "stdout",
          "output_type": "stream",
          "text": [
            "Mounted at /content/drive\n"
          ]
        }
      ],
      "source": [
        "from google.colab import drive\n",
        "import tensorflow as tf\n",
        "import os\n",
        "\n",
        "drive.mount('/content/drive')\n",
        "dataset = '/content/drive/My Drive/Fruits Classification'\n",
        "\n",
        "\n",
        "\n"
      ]
    },
    {
      "cell_type": "markdown",
      "metadata": {},
      "source": [
        "Copia de las carpetas alojadas en el drive  y cargadas en el entorno de colab"
      ]
    },
    {
      "cell_type": "code",
      "execution_count": null,
      "metadata": {
        "id": "_hdYtZDRM7M7"
      },
      "outputs": [],
      "source": [
        "!cp -r \"/content/drive/My Drive/Fruits Classification/valid\" /content/valid_local\n",
        "!cp -r \"/content/drive/My Drive/Fruits Classification/test\" /content/test_local\n",
        "!cp -r \"/content/drive/My Drive/Fruits Classification/train\" /content/train_local\n"
      ]
    },
    {
      "cell_type": "markdown",
      "metadata": {},
      "source": [
        "Este dataset trata de 3 directorios diferentes los cuales se dividen en :\n",
        "\n",
        "\n",
        "*   Validación\n",
        "*   Entrenamiento\n",
        "*   Testeo\n",
        "\n",
        "Dentro de estos directorios se encuentran las  imagenes con las que vamos a entrenar el modelo convolucional  ,las cuales se dividen en 5 clases\n",
        "\n",
        "\n",
        "1.  Apple (Manzana)\n",
        "2.  Banana (Platano)\n",
        "3.  Grape  (Uva)\n",
        "4.  Mango   (Mango)\n",
        "5.  Strawberry (Fresa)\n",
        "\n"
      ]
    },
    {
      "cell_type": "code",
      "execution_count": null,
      "metadata": {
        "colab": {
          "base_uri": "https://localhost:8080/"
        },
        "id": "nyPaILFg5erT",
        "outputId": "bdef81c5-0f7b-4cba-e913-8f724e5883ed"
      },
      "outputs": [
        {
          "name": "stdout",
          "output_type": "stream",
          "text": [
            "Found 9700 files belonging to 5 classes.\n"
          ]
        }
      ],
      "source": [
        "import tensorflow as tf\n",
        "entrenamiento = tf.keras.utils.image_dataset_from_directory(\n",
        "    \"/content/train_local\",\n",
        "    image_size=(128, 128),     # Reescalado aquí\n",
        "    batch_size=32 # Cantidad de muestras que la red procesa juntas antes de actualizar los pesos\n",
        ")\n",
        "\n",
        "import numpy as np\n",
        "\n",
        "x_train = []\n",
        "y_train = []\n",
        "\n",
        "for images, labels in entrenamiento:\n",
        "    x_train.extend(images.numpy())   # Convertimos a NumPy arrays y acumulamos\n",
        "    y_train.extend(labels.numpy())\n",
        "\n",
        "# Convertimos las listas a arrays NumPy finales\n",
        "x_train = np.array(x_train)\n",
        "y_train = np.array(y_train)\n"
      ]
    },
    {
      "cell_type": "code",
      "execution_count": null,
      "metadata": {
        "colab": {
          "base_uri": "https://localhost:8080/"
        },
        "id": "DkzDvcppUZaU",
        "outputId": "c77e9f7b-a227-423f-a86b-e80fe663dd4a"
      },
      "outputs": [
        {
          "name": "stdout",
          "output_type": "stream",
          "text": [
            "Found 100 files belonging to 5 classes.\n"
          ]
        }
      ],
      "source": [
        "testeo = tf.keras.utils.image_dataset_from_directory(\n",
        "    \"/content/test_local\",\n",
        "    image_size=(128, 128),     # Reescalado aquí\n",
        "    batch_size=32 # Cantidad de muestras que la red procesa juntas antes de actualizar los pesos\n",
        ")\n",
        "\n",
        "import numpy as np\n",
        "\n",
        "x_test = []\n",
        "y_test = []\n",
        "\n",
        "for images, labels in entrenamiento:\n",
        "    x_test.extend(images.numpy())   # Convertimos a NumPy arrays y acumulamos\n",
        "    y_test.extend(labels.numpy())\n",
        "\n",
        "# Convertimos las listas a arrays NumPy finales\n",
        "x_test = np.array(x_test)\n",
        "y_test = np.array(y_test)"
      ]
    },
    {
      "cell_type": "markdown",
      "metadata": {},
      "source": [
        "Lo primero que hacemos en las siguientes líneas de codigo es transformar las variables objetivo de entrenamiento y de testeo ,de imagenes a variables categoricas ,para que el modelo sepa diferenciar las 5 categorias que queremos\n",
        "\n",
        "Lo siguieente es crear el modelo secuencial ,compilarlo y sacar las metricas de evaluación"
      ]
    },
    {
      "cell_type": "code",
      "execution_count": null,
      "metadata": {
        "colab": {
          "base_uri": "https://localhost:8080/"
        },
        "id": "pgmh62Z-V8EZ",
        "outputId": "c9eba72a-eb40-48dc-8047-b3ca032be308"
      },
      "outputs": [
        {
          "name": "stdout",
          "output_type": "stream",
          "text": [
            "Test accuracy: 0.9688\n"
          ]
        }
      ],
      "source": [
        "from tensorflow.keras.layers import Conv2D, MaxPooling2D, Flatten, Dense, Dropout,Rescaling,GlobalAveragePooling2D\n",
        "from tensorflow.keras.models import Sequential\n",
        "from tensorflow.keras.utils import to_categorical\n",
        "from tensorflow.keras.callbacks import EarlyStopping\n",
        "\n",
        "y_train_cat = to_categorical(y_train, 5)# Convertir a categoricas las variables objetivo \n",
        "y_test_cat = to_categorical(y_test, 5)\n",
        "\n",
        "model = Sequential([ #Entrenamos el modelo secuencial\n",
        "    Rescaling(1./255, input_shape=(128, 128, 3)),# Entrada y rescalado de los inputs \n",
        "\n",
        "    Conv2D(128, (3, 3), activation='relu', strides=(2, 2), padding='same'),\n",
        "    MaxPooling2D(),\n",
        "    Conv2D(64, (3, 3), activation='relu', strides=(2, 2), padding='same'),\n",
        "    MaxPooling2D(),\n",
        "    Conv2D(32, (3, 3), activation='relu' , strides=(2, 2), padding='same'),\n",
        "    GlobalAveragePooling2D(),\n",
        "    Dense(128, activation='relu'),\n",
        "    Dropout(0.3),\n",
        "    Dense(5, activation='softmax')\n",
        "])\n",
        "\n",
        "early_stop = EarlyStopping( monitor='val_loss',patience=5,restore_best_weights=True )\n",
        "\n",
        "model.compile(optimizer='adam', loss='categorical_crossentropy', metrics=['accuracy'])\n",
        "history = model.fit(x_train, y_train_cat, epochs=100, batch_size=64, validation_split=0.1,verbose=0 )\n",
        "\n",
        "test_loss, test_acc = model.evaluate(x_test, y_test_cat, verbose=0)\n",
        "print(f\"Test accuracy: {test_acc:.4f}\")\n",
        "\n"
      ]
    },
    {
      "cell_type": "markdown",
      "metadata": {},
      "source": [
        "Este codigo muestra una serie de predicciones del modelo  y las greafica"
      ]
    },
    {
      "cell_type": "code",
      "execution_count": null,
      "metadata": {
        "colab": {
          "base_uri": "https://localhost:8080/",
          "height": 415
        },
        "id": "pdohz0k7YWIX",
        "outputId": "ac39068d-a333-46ad-f0c5-dba80f22d20f"
      },
      "outputs": [
        {
          "name": "stdout",
          "output_type": "stream",
          "text": [
            "\u001b[1m1/1\u001b[0m \u001b[32m━━━━━━━━━━━━━━━━━━━━\u001b[0m\u001b[37m\u001b[0m \u001b[1m0s\u001b[0m 296ms/step\n",
            "\u001b[1m1/1\u001b[0m \u001b[32m━━━━━━━━━━━━━━━━━━━━\u001b[0m\u001b[37m\u001b[0m \u001b[1m0s\u001b[0m 41ms/step\n"
          ]
        },
        {
          "name": "stderr",
          "output_type": "stream",
          "text": [
            "WARNING:matplotlib.image:Clipping input data to the valid range for imshow with RGB data ([0..1] for floats or [0..255] for integers). Got range [0.0..255.0].\n",
            "WARNING:matplotlib.image:Clipping input data to the valid range for imshow with RGB data ([0..1] for floats or [0..255] for integers). Got range [0.0..255.0].\n",
            "WARNING:matplotlib.image:Clipping input data to the valid range for imshow with RGB data ([0..1] for floats or [0..255] for integers). Got range [0.0..255.0].\n",
            "WARNING:matplotlib.image:Clipping input data to the valid range for imshow with RGB data ([0..1] for floats or [0..255] for integers). Got range [0.19485474..255.0].\n",
            "WARNING:matplotlib.image:Clipping input data to the valid range for imshow with RGB data ([0..1] for floats or [0..255] for integers). Got range [2.6244202..255.0].\n",
            "WARNING:matplotlib.image:Clipping input data to the valid range for imshow with RGB data ([0..1] for floats or [0..255] for integers). Got range [0.0..255.0].\n",
            "WARNING:matplotlib.image:Clipping input data to the valid range for imshow with RGB data ([0..1] for floats or [0..255] for integers). Got range [0.0..255.0].\n",
            "WARNING:matplotlib.image:Clipping input data to the valid range for imshow with RGB data ([0..1] for floats or [0..255] for integers). Got range [0.0..255.0].\n",
            "WARNING:matplotlib.image:Clipping input data to the valid range for imshow with RGB data ([0..1] for floats or [0..255] for integers). Got range [0.0..255.0].\n",
            "WARNING:matplotlib.image:Clipping input data to the valid range for imshow with RGB data ([0..1] for floats or [0..255] for integers). Got range [0.0..255.0].\n"
          ]
        },
        {
          "data": {
            "image/png": "[encoded data removed]",
            "text/plain": [
              "<Figure size 2000x200 with 10 Axes>"
            ]
          },
          "metadata": {},
          "output_type": "display_data"
        }
      ],
      "source": [
        "import matplotlib.pyplot as plt\n",
        "\n",
        "#  Visualizar predicciones\n",
        "predictions = model.predict(x_test[:10])\n",
        "predicted_labels = np.argmax(predictions, axis=1)\n",
        "true_labels = y_test[:10].flatten()\n",
        "\n",
        "# Visualizar primeras predicciones\n",
        "preds = model.predict(x_test[:10])\n",
        "predicted_labels = np.argmax(preds, axis=1)\n",
        "true_labels = y_test[:10].flatten()\n",
        "\n",
        "fig, axes = plt.subplots(1, 10, figsize=(20, 2))\n",
        "for i, ax in enumerate(axes):\n",
        "    ax.imshow(x_test[i])\n",
        "    ax.axis('off')\n",
        "    ax.set_title(f\"Pred: {predicted_labels[i]}\\nTrue: {true_labels[i]}\")\n",
        "plt.tight_layout()\n",
        "plt.show()\n"
      ]
    },
    {
      "cell_type": "markdown",
      "metadata": {},
      "source": [
        "Este codigo ejecuta otro tipo de estructura/arquitectura  del modelo para comprobar si esto altera el trendimiento del modelo"
      ]
    },
    {
      "cell_type": "code",
      "execution_count": null,
      "metadata": {
        "id": "DFnfRlqvltbO"
      },
      "outputs": [],
      "source": [
        "from tensorflow.keras.layers import Input, Rescaling, Conv2D, MaxPooling2D\n",
        "from tensorflow.keras.layers import GlobalAveragePooling2D, Dense, Dropout\n",
        "from tensorflow.keras.models import Model\n",
        "from tensorflow.keras.callbacks import EarlyStopping\n",
        "\n",
        "\n",
        "#Segunda prueba con modelo funcional \n",
        "\n",
        "input = Input(shape=(128, 128, 3))\n",
        "x = Rescaling(1./255)(input)\n",
        "\n",
        "x = Conv2D(128, (3, 3), activation='relu', strides=(2, 2), padding='same')(x)\n",
        "x = MaxPooling2D()(x)\n",
        "\n",
        "x = Conv2D(64, (3, 3), activation='relu', strides=(2, 2), padding='same')(x)\n",
        "x = MaxPooling2D()(x)\n",
        "\n",
        "x = Conv2D(32, (3, 3), activation='relu', strides=(2, 2), padding='same')(x)\n",
        "x = GlobalAveragePooling2D()(x)\n",
        "\n",
        "x = Dense(128, activation='relu')(x)\n",
        "x = Dropout(0.3)(x)\n",
        "output = Dense(5, activation='softmax')(x)\n",
        "\n",
        "model = Model(inputs=input, outputs=output)\n"
      ]
    },
    {
      "cell_type": "markdown",
      "metadata": {},
      "source": [
        "Compilación del modelo anterior y comprobación de la precición del modelo"
      ]
    },
    {
      "cell_type": "code",
      "execution_count": null,
      "metadata": {
        "colab": {
          "base_uri": "https://localhost:8080/"
        },
        "id": "sTtNtiLhAlOJ",
        "outputId": "b0583e4b-af58-4a4a-a5eb-4875260ac41f"
      },
      "outputs": [
        {
          "name": "stdout",
          "output_type": "stream",
          "text": [
            "Test accuracy: 0.9423\n"
          ]
        }
      ],
      "source": [
        "from tensorflow.keras.utils import to_categorical\n",
        "\n",
        "y_train_cat = to_categorical(y_train, 5)\n",
        "y_test_cat = to_categorical(y_test, 5)\n",
        "early_stop = EarlyStopping( monitor='val_loss',patience=5,restore_best_weights=True )\n",
        "\n",
        "\n",
        "model.compile(optimizer='adam', loss='categorical_crossentropy', metrics=['accuracy'])\n",
        "history = model.fit(x_train, y_train_cat, epochs=100, batch_size=64, validation_split=0.1,verbose=0 )\n",
        "\n",
        "test_loss, test_acc = model.evaluate(x_test, y_test_cat, verbose=0)\n",
        "print(f\"Test accuracy: {test_acc:.4f}\")\n"
      ]
    },
    {
      "cell_type": "markdown",
      "metadata": {},
      "source": [
        "Por ultimo creación  de otra arquitectura tipo resnet en la que se utilizan residual_block"
      ]
    },
    {
      "cell_type": "code",
      "execution_count": null,
      "metadata": {
        "id": "JWL6uF5HE7zm"
      },
      "outputs": [],
      "source": [
        "from tensorflow.keras.layers import Input, Rescaling, Conv2D, MaxPooling2D\n",
        "from tensorflow.keras.layers import GlobalAveragePooling2D, Dense, Dropout\n",
        "from tensorflow.keras.layers import Add, ReLU\n",
        "from tensorflow.keras.models import Model\n",
        "\n",
        "\n",
        "\"\"\"\n",
        "    Crea un bloque residual como en ResNet\n",
        "\n",
        "    Parámetros\n",
        "    - x: Tensor de entrada\n",
        "    - filters: Número de filtros para las capas Conv2D\n",
        "    - kernel_size: Tamaño del kernel para las convoluciones\n",
        "    - strides: Paso de la convolución\n",
        "\n",
        "    Devuelve un tensor con la salida residual.\n",
        "    \"\"\"\n",
        "\n",
        "\n",
        "def residual_block(x, filters, kernel_size=(3,3), strides=(1,1)):\n",
        "\n",
        "        \n",
        "\n",
        "\n",
        "    \n",
        "    shortcut = x # Guardamos la entrada original para la conexión residual \n",
        "    x = Conv2D(filters, kernel_size, padding='same', strides=strides, activation='relu')(x)\n",
        "    x = Conv2D(filters, kernel_size, padding='same')(x)\n",
        "\n",
        "    # Si la dimensión espacial o el número de canales cambia, ajustamos el shortcut\n",
        "    if strides != (1,1) or shortcut.shape[-1] != filters:\n",
        "        # Convolución 1x1 para que el shortcut tenga las mismas dimensiones que x\n",
        "        shortcut = Conv2D(filters, (1,1), padding='same', strides=strides)(shortcut)\n",
        "    \n",
        "    # Suma del camino principal y el shortcut\n",
        "    x = Add()([x, shortcut])\n",
        "    x = ReLU()(x)\n",
        "    return x\n",
        "\n",
        "\n",
        "input = Input(shape=(128, 128, 3))\n",
        "x = Rescaling(1./255)(input)\n",
        "\n",
        "# Bloque residual 1\n",
        "x = residual_block(x, filters=128, strides=(2,2))\n",
        "x = MaxPooling2D()(x)\n",
        "\n",
        "# Bloque residual 2\n",
        "x = residual_block(x, filters=64, strides=(2,2))\n",
        "x = MaxPooling2D()(x)\n",
        "\n",
        "# Convolución final \n",
        "x = Conv2D(32, (3, 3), activation='relu', strides=(2, 2), padding='same')(x)\n",
        "x = GlobalAveragePooling2D()(x)\n",
        "\n",
        "# Clasificación\n",
        "x = Dense(128, activation='relu')(x)\n",
        "x = Dropout(0.3)(x)\n",
        "output = Dense(5, activation='softmax')(x)\n",
        "\n",
        "model = Model(inputs=input, outputs=output)\n"
      ]
    },
    {
      "cell_type": "markdown",
      "metadata": {},
      "source": [
        " Compilaciónm del modelo  y comprobación de la precisión"
      ]
    },
    {
      "cell_type": "code",
      "execution_count": null,
      "metadata": {
        "colab": {
          "base_uri": "https://localhost:8080/"
        },
        "id": "gKkRjFASE-p_",
        "outputId": "f485edb8-58cb-4435-baea-bd7988d99a4f"
      },
      "outputs": [
        {
          "name": "stdout",
          "output_type": "stream",
          "text": [
            "Test accuracy: 0.9601\n"
          ]
        }
      ],
      "source": [
        "from tensorflow.keras.utils import to_categorical\n",
        "\n",
        "y_train_cat = to_categorical(y_train, 5)\n",
        "y_test_cat = to_categorical(y_test, 5)\n",
        "early_stop = EarlyStopping( monitor='val_loss',patience=5,restore_best_weights=True )\n",
        "\n",
        "\n",
        "model.compile(optimizer='adam', loss='categorical_crossentropy', metrics=['accuracy'])\n",
        "history = model.fit(x_train, y_train_cat, epochs=100, batch_size=64, validation_split=0.1,verbose=0 )\n",
        "\n",
        "test_loss, test_acc = model.evaluate(x_test, y_test_cat, verbose=0)\n",
        "print(f\"Test accuracy: {test_acc:.4f}\")"
      ]
    }
  ],
  "metadata": {
    "accelerator": "GPU",
    "colab": {
      "gpuType": "T4",
      "provenance": []
    },
    "kernelspec": {
      "display_name": "Python 3",
      "name": "python3"
    },
    "language_info": {
      "name": "python"
    }
  },
  "nbformat": 4,
  "nbformat_minor": 0
}
